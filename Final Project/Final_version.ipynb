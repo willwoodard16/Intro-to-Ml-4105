{
 "cells": [
  {
   "cell_type": "code",
   "execution_count": 1,
   "id": "59acbf7d",
   "metadata": {},
   "outputs": [],
   "source": [
    "import numpy as np \n",
    "import matplotlib.pyplot as plt \n",
    "import pandas as pd \n",
    "import seaborn as sns "
   ]
  },
  {
   "cell_type": "code",
   "execution_count": 2,
   "id": "541c1f38",
   "metadata": {},
   "outputs": [],
   "source": [
    "file_handler = open(\"car_data.csv\", \"r\")\n",
    "car_data = pd.read_csv('car_data.csv')\n",
    "file_handler.close()"
   ]
  },
  {
   "cell_type": "code",
   "execution_count": 3,
   "id": "8ac0f283",
   "metadata": {},
   "outputs": [
    {
     "data": {
      "text/html": [
       "<div>\n",
       "<style scoped>\n",
       "    .dataframe tbody tr th:only-of-type {\n",
       "        vertical-align: middle;\n",
       "    }\n",
       "\n",
       "    .dataframe tbody tr th {\n",
       "        vertical-align: top;\n",
       "    }\n",
       "\n",
       "    .dataframe thead th {\n",
       "        text-align: right;\n",
       "    }\n",
       "</style>\n",
       "<table border=\"1\" class=\"dataframe\">\n",
       "  <thead>\n",
       "    <tr style=\"text-align: right;\">\n",
       "      <th></th>\n",
       "      <th>buying</th>\n",
       "      <th>maint</th>\n",
       "      <th>doors</th>\n",
       "      <th>persons</th>\n",
       "      <th>lug_boot</th>\n",
       "      <th>safety</th>\n",
       "      <th>acceptability</th>\n",
       "    </tr>\n",
       "  </thead>\n",
       "  <tbody>\n",
       "    <tr>\n",
       "      <th>0</th>\n",
       "      <td>vhigh</td>\n",
       "      <td>vhigh</td>\n",
       "      <td>2</td>\n",
       "      <td>2</td>\n",
       "      <td>small</td>\n",
       "      <td>low</td>\n",
       "      <td>unacc</td>\n",
       "    </tr>\n",
       "    <tr>\n",
       "      <th>1</th>\n",
       "      <td>vhigh</td>\n",
       "      <td>vhigh</td>\n",
       "      <td>2</td>\n",
       "      <td>2</td>\n",
       "      <td>small</td>\n",
       "      <td>med</td>\n",
       "      <td>unacc</td>\n",
       "    </tr>\n",
       "    <tr>\n",
       "      <th>2</th>\n",
       "      <td>vhigh</td>\n",
       "      <td>vhigh</td>\n",
       "      <td>2</td>\n",
       "      <td>2</td>\n",
       "      <td>small</td>\n",
       "      <td>high</td>\n",
       "      <td>unacc</td>\n",
       "    </tr>\n",
       "    <tr>\n",
       "      <th>3</th>\n",
       "      <td>vhigh</td>\n",
       "      <td>vhigh</td>\n",
       "      <td>2</td>\n",
       "      <td>2</td>\n",
       "      <td>med</td>\n",
       "      <td>low</td>\n",
       "      <td>unacc</td>\n",
       "    </tr>\n",
       "    <tr>\n",
       "      <th>4</th>\n",
       "      <td>vhigh</td>\n",
       "      <td>vhigh</td>\n",
       "      <td>2</td>\n",
       "      <td>2</td>\n",
       "      <td>med</td>\n",
       "      <td>med</td>\n",
       "      <td>unacc</td>\n",
       "    </tr>\n",
       "  </tbody>\n",
       "</table>\n",
       "</div>"
      ],
      "text/plain": [
       "  buying  maint doors persons lug_boot safety acceptability\n",
       "0  vhigh  vhigh     2       2    small    low         unacc\n",
       "1  vhigh  vhigh     2       2    small    med         unacc\n",
       "2  vhigh  vhigh     2       2    small   high         unacc\n",
       "3  vhigh  vhigh     2       2      med    low         unacc\n",
       "4  vhigh  vhigh     2       2      med    med         unacc"
      ]
     },
     "execution_count": 3,
     "metadata": {},
     "output_type": "execute_result"
    }
   ],
   "source": [
    "car_data.head()"
   ]
  },
  {
   "cell_type": "code",
   "execution_count": 4,
   "id": "be3d9079",
   "metadata": {},
   "outputs": [
    {
     "data": {
      "text/html": [
       "<div>\n",
       "<style scoped>\n",
       "    .dataframe tbody tr th:only-of-type {\n",
       "        vertical-align: middle;\n",
       "    }\n",
       "\n",
       "    .dataframe tbody tr th {\n",
       "        vertical-align: top;\n",
       "    }\n",
       "\n",
       "    .dataframe thead th {\n",
       "        text-align: right;\n",
       "    }\n",
       "</style>\n",
       "<table border=\"1\" class=\"dataframe\">\n",
       "  <thead>\n",
       "    <tr style=\"text-align: right;\">\n",
       "      <th></th>\n",
       "      <th>buying</th>\n",
       "      <th>maint</th>\n",
       "      <th>doors</th>\n",
       "      <th>persons</th>\n",
       "      <th>lug_boot</th>\n",
       "      <th>safety</th>\n",
       "      <th>acceptability</th>\n",
       "    </tr>\n",
       "  </thead>\n",
       "  <tbody>\n",
       "    <tr>\n",
       "      <th>0</th>\n",
       "      <td>3</td>\n",
       "      <td>3</td>\n",
       "      <td>2</td>\n",
       "      <td>2</td>\n",
       "      <td>0</td>\n",
       "      <td>0</td>\n",
       "      <td>0</td>\n",
       "    </tr>\n",
       "    <tr>\n",
       "      <th>1</th>\n",
       "      <td>3</td>\n",
       "      <td>3</td>\n",
       "      <td>2</td>\n",
       "      <td>2</td>\n",
       "      <td>0</td>\n",
       "      <td>1</td>\n",
       "      <td>0</td>\n",
       "    </tr>\n",
       "    <tr>\n",
       "      <th>2</th>\n",
       "      <td>3</td>\n",
       "      <td>3</td>\n",
       "      <td>2</td>\n",
       "      <td>2</td>\n",
       "      <td>0</td>\n",
       "      <td>2</td>\n",
       "      <td>0</td>\n",
       "    </tr>\n",
       "    <tr>\n",
       "      <th>3</th>\n",
       "      <td>3</td>\n",
       "      <td>3</td>\n",
       "      <td>2</td>\n",
       "      <td>2</td>\n",
       "      <td>1</td>\n",
       "      <td>0</td>\n",
       "      <td>0</td>\n",
       "    </tr>\n",
       "    <tr>\n",
       "      <th>4</th>\n",
       "      <td>3</td>\n",
       "      <td>3</td>\n",
       "      <td>2</td>\n",
       "      <td>2</td>\n",
       "      <td>1</td>\n",
       "      <td>1</td>\n",
       "      <td>0</td>\n",
       "    </tr>\n",
       "  </tbody>\n",
       "</table>\n",
       "</div>"
      ],
      "text/plain": [
       "   buying  maint  doors  persons  lug_boot  safety  acceptability\n",
       "0       3      3      2        2         0       0              0\n",
       "1       3      3      2        2         0       1              0\n",
       "2       3      3      2        2         0       2              0\n",
       "3       3      3      2        2         1       0              0\n",
       "4       3      3      2        2         1       1              0"
      ]
     },
     "execution_count": 4,
     "metadata": {},
     "output_type": "execute_result"
    }
   ],
   "source": [
    "buying = {'vhigh': 3, 'high': 2, 'med': 1, 'low': 0}\n",
    "car_data.buying = [buying[item] for item in car_data.buying]\n",
    "maint = {'vhigh': 3, 'high': 2, 'med': 1, 'low': 0}\n",
    "car_data.maint = [maint[item] for item in car_data.maint]\n",
    "doors = {'2': 2, '3': 3, '4': 4, '5more': 5}\n",
    "car_data.doors = [doors[item] for item in car_data.doors]\n",
    "persons = {'2': 2, '4': 4, 'more': 6}\n",
    "car_data.persons = [persons[item] for item in car_data.persons]\n",
    "lug_boot = {'big': 2, 'med': 1, 'small': 0}\n",
    "car_data.lug_boot = [lug_boot[item] for item in car_data.lug_boot]\n",
    "safety = {'high': 2, 'med': 1, 'low': 0}\n",
    "car_data.safety = [safety[item] for item in car_data.safety]\n",
    "acceptability = {'vgood': 1, 'good': 1, 'acc': 1, 'unacc': 0}\n",
    "car_data.acceptability = [acceptability[item] for item in car_data.acceptability]\n",
    "car_data.head()"
   ]
  },
  {
   "cell_type": "code",
   "execution_count": 5,
   "id": "253825bd",
   "metadata": {},
   "outputs": [],
   "source": [
    "x = car_data.values[:,[0,1,2,3,4,5]]\n",
    "y = car_data.values[:,6]"
   ]
  },
  {
   "cell_type": "code",
   "execution_count": 6,
   "id": "f31fa7f1",
   "metadata": {},
   "outputs": [],
   "source": [
    "from sklearn.preprocessing import StandardScaler \n",
    "from sklearn.model_selection import train_test_split\n",
    "x_train, x_test, y_train, y_test = train_test_split(x, y, test_size = 0.2, train_size = 0.8, random_state = np.random)\n",
    "\n",
    "# Standardizing the features \n",
    "sc_X = StandardScaler()\n",
    "sc_X.fit(x_train)\n",
    "x_train = sc_X.transform(x_train)\n",
    "x_test = sc_X.transform(x_test)"
   ]
  },
  {
   "cell_type": "code",
   "execution_count": 7,
   "id": "e611b37c",
   "metadata": {},
   "outputs": [
    {
     "data": {
      "text/plain": [
       "LogisticRegression(random_state=0)"
      ]
     },
     "execution_count": 7,
     "metadata": {},
     "output_type": "execute_result"
    }
   ],
   "source": [
    "from sklearn.linear_model import LogisticRegression \n",
    "classifier = LogisticRegression(random_state=0) \n",
    "classifier.fit(x_train, y_train) "
   ]
  },
  {
   "cell_type": "code",
   "execution_count": 8,
   "id": "eb47a6d3",
   "metadata": {},
   "outputs": [
    {
     "data": {
      "text/plain": [
       "array([0, 0, 0, 0, 0, 1, 0, 1, 1, 0, 1, 0, 0, 0, 0, 1, 1, 0, 0, 1, 0, 0,\n",
       "       0, 0, 0, 1, 0, 1, 0, 0], dtype=int64)"
      ]
     },
     "execution_count": 8,
     "metadata": {},
     "output_type": "execute_result"
    }
   ],
   "source": [
    "y_pred = classifier.predict(x_test) \n",
    "y_pred[0:30] "
   ]
  },
  {
   "cell_type": "code",
   "execution_count": 9,
   "id": "f540102a",
   "metadata": {},
   "outputs": [
    {
     "data": {
      "text/plain": [
       "array([[214,  20],\n",
       "       [ 31,  81]], dtype=int64)"
      ]
     },
     "execution_count": 9,
     "metadata": {},
     "output_type": "execute_result"
    }
   ],
   "source": [
    "from sklearn.metrics import confusion_matrix \n",
    "cnf_matrix = confusion_matrix(y_test, y_pred) \n",
    "cnf_matrix "
   ]
  },
  {
   "cell_type": "code",
   "execution_count": 10,
   "id": "a476b81a",
   "metadata": {},
   "outputs": [
    {
     "name": "stdout",
     "output_type": "stream",
     "text": [
      "Accuracy: 0.8526011560693642\n",
      "Precision: 0.8503283783610166\n",
      "Recall: 0.8526011560693642\n"
     ]
    }
   ],
   "source": [
    "import warnings\n",
    "warnings.filterwarnings('ignore')\n",
    "from sklearn import metrics \n",
    "print(\"Accuracy:\",metrics.accuracy_score(y_test, y_pred))\n",
    "print(\"Precision:\",metrics.precision_score(y_test, y_pred, pos_label='positive', average='weighted'))\n",
    "print(\"Recall:\",metrics.recall_score(y_test, y_pred, pos_label='positive', average='weighted'))"
   ]
  },
  {
   "cell_type": "code",
   "execution_count": 11,
   "id": "e8546ad2",
   "metadata": {},
   "outputs": [
    {
     "data": {
      "text/plain": [
       "Text(0.5, 257.44, 'Predicted label')"
      ]
     },
     "execution_count": 11,
     "metadata": {},
     "output_type": "execute_result"
    },
    {
     "data": {
      "image/png": "[encoded data removed]",
      "text/plain": [
       "<Figure size 432x288 with 2 Axes>"
      ]
     },
     "metadata": {
      "needs_background": "light"
     },
     "output_type": "display_data"
    }
   ],
   "source": [
    "class_names=[0,1]\n",
    "fig, ax = plt.subplots() \n",
    "tick_marks = np.arange(len(class_names)) \n",
    "plt.xticks(tick_marks, class_names) \n",
    "plt.yticks(tick_marks, class_names) \n",
    "\n",
    "sns.heatmap(pd.DataFrame(cnf_matrix), annot=True, cmap=\"YlGnBu\" ,fmt='g') \n",
    "ax.xaxis.set_label_position(\"top\") \n",
    "plt.tight_layout() \n",
    "plt.title('Confusion matrix', y=1.1) \n",
    "plt.ylabel('Actual label') \n",
    "plt.xlabel('Predicted label') "
   ]
  },
  {
   "cell_type": "code",
   "execution_count": 12,
   "id": "f59161ef",
   "metadata": {},
   "outputs": [],
   "source": [
    "from sklearn.metrics import make_scorer, accuracy_score, precision_score, recall_score\n",
    "from sklearn.model_selection import KFold\n",
    "from sklearn.model_selection import train_test_split\n",
    "from sklearn.model_selection import cross_validate\n",
    "from sklearn.linear_model import LinearRegression"
   ]
  },
  {
   "cell_type": "code",
   "execution_count": 13,
   "id": "9d9854db",
   "metadata": {
    "scrolled": true
   },
   "outputs": [
    {
     "name": "stdout",
     "output_type": "stream",
     "text": [
      "K =  2\n",
      "Accuracy: 0.8654124457308249\n",
      "Precision: 0.7853302292065076\n",
      "Recall: 0.7383960047003526\n",
      "K =  3\n",
      "Accuracy: 0.8675893615014618\n",
      "Precision: 0.795201605546433\n",
      "Recall: 0.7369151825892267\n",
      "K =  4\n",
      "Accuracy: 0.8668530619083522\n",
      "Precision: 0.7939483749237689\n",
      "Recall: 0.732819776410984\n",
      "K =  5\n",
      "Accuracy: 0.8682885993826192\n",
      "Precision: 0.7996396396396396\n",
      "Recall: 0.7365593158175299\n",
      "K =  6\n",
      "Accuracy: 0.8675512892904198\n",
      "Precision: 0.7989898567717889\n",
      "Recall: 0.7329737224801668\n",
      "K =  7\n",
      "Accuracy: 0.8646655093355601\n",
      "Precision: 0.7933329486176726\n",
      "Recall: 0.7276699902876026\n",
      "K =  8\n",
      "Accuracy: 0.8697531590267509\n",
      "Precision: 0.7981994702169629\n",
      "Recall: 0.7372997598162072\n",
      "K =  9\n",
      "Accuracy: 0.8697290363957031\n",
      "Precision: 0.8031977747942077\n",
      "Recall: 0.7368773334550132\n",
      "K =  10\n",
      "Accuracy: 0.8690021895527057\n",
      "Precision: 0.8063315239785828\n",
      "Recall: 0.7307122170614979\n",
      "K =  11\n",
      "Accuracy: 0.8697720057720058\n",
      "Precision: 0.8066027128648163\n",
      "Recall: 0.737105760130966\n",
      "K =  12\n",
      "Accuracy: 0.8733570714642679\n",
      "Precision: 0.8083306226944242\n",
      "Recall: 0.7462431161207093\n",
      "K =  13\n",
      "Accuracy: 0.8726109897860913\n",
      "Precision: 0.8094079865916649\n",
      "Recall: 0.7411035170083967\n",
      "K =  14\n",
      "Accuracy: 0.8719557086904024\n",
      "Precision: 0.8079127023677212\n",
      "Recall: 0.740260609668612\n",
      "K =  15\n",
      "Accuracy: 0.8726663549945458\n",
      "Precision: 0.8116502509215155\n",
      "Recall: 0.7442057175883809\n",
      "K =  16\n",
      "Accuracy: 0.8725691659983961\n",
      "Precision: 0.8063278096560592\n",
      "Recall: 0.7461379134366812\n",
      "K =  17\n",
      "Accuracy: 0.8718936535770586\n",
      "Precision: 0.8112617790569062\n",
      "Recall: 0.7486244862629416\n",
      "K =  18\n",
      "Accuracy: 0.8711931343510292\n",
      "Precision: 0.8068294611378771\n",
      "Recall: 0.7426381201955592\n",
      "K =  19\n",
      "Accuracy: 0.8719258191139949\n",
      "Precision: 0.8047020575146482\n",
      "Recall: 0.7428173589271987\n",
      "K =  20\n",
      "Accuracy: 0.8726915113871636\n",
      "Precision: 0.8091241918201302\n",
      "Recall: 0.7443298774239177\n"
     ]
    }
   ],
   "source": [
    "from sklearn.linear_model import LogisticRegression\n",
    "lr = LogisticRegression()\n",
    "metrics = ['accuracy', 'precision', 'recall']\n",
    "sum = 0\n",
    "for kfoldloop in (2,3,4,5,6,7,8,9,10,11,12,13,14,15,16,17,18,19,20): \n",
    "    cv = KFold(n_splits=kfoldloop, random_state=1, shuffle=True)\n",
    "    scores = cross_validate(lr, x_train, y_train, scoring=metrics, cv=cv, n_jobs=-1)\n",
    "    sorted(scores.keys())\n",
    "    ['fit_time', 'score_time', 'test_accuracy', 'test_precision', 'test_recall']\n",
    "    print(\"K = \", kfoldloop)\n",
    "    print(\"Accuracy:\", np.mean(scores['test_accuracy']))\n",
    "    print(\"Precision:\", np.mean(scores['test_precision']))\n",
    "    print(\"Recall:\", np.mean(scores['test_recall']))"
   ]
  },
  {
   "cell_type": "code",
   "execution_count": 14,
   "id": "52562356",
   "metadata": {
    "scrolled": true
   },
   "outputs": [
    {
     "name": "stdout",
     "output_type": "stream",
     "text": [
      "K =  2\n",
      "Accuracy: 0.8806078147612156\n",
      "Precision: 0.868367968333714\n",
      "Recall: 0.6959949079514297\n",
      "K =  3\n",
      "Accuracy: 0.890020120091798\n",
      "Precision: 0.8877208827456217\n",
      "Recall: 0.7146828877211172\n",
      "K =  4\n",
      "Accuracy: 0.8907388791153557\n",
      "Precision: 0.8859986825946349\n",
      "Recall: 0.7165263107812351\n",
      "K =  5\n",
      "Accuracy: 0.8878381206508659\n",
      "Precision: 0.8844734994734994\n",
      "Recall: 0.7067422363574678\n",
      "K =  6\n",
      "Accuracy: 0.8900056465273857\n",
      "Precision: 0.8866097142591708\n",
      "Recall: 0.7141182918213894\n",
      "K =  7\n",
      "Accuracy: 0.8892844324316405\n",
      "Precision: 0.886588570277605\n",
      "Recall: 0.7131170614569998\n",
      "K =  8\n",
      "Accuracy: 0.889295436214545\n",
      "Precision: 0.8870698413412417\n",
      "Recall: 0.7097937552213869\n",
      "K =  9\n",
      "Accuracy: 0.8892850069320658\n",
      "Precision: 0.8847554074742565\n",
      "Recall: 0.7196484076523648\n",
      "K =  10\n",
      "Accuracy: 0.8885778333854656\n",
      "Precision: 0.8893675692499221\n",
      "Recall: 0.7092556565383881\n",
      "K =  11\n",
      "Accuracy: 0.8892987012987014\n",
      "Precision: 0.8881661186646524\n",
      "Recall: 0.7141742988274116\n",
      "K =  12\n",
      "Accuracy: 0.8914792603698151\n",
      "Precision: 0.8902029582258218\n",
      "Recall: 0.7201430919530222\n",
      "K =  13\n",
      "Accuracy: 0.8914653500264504\n",
      "Precision: 0.8910469226996972\n",
      "Recall: 0.7206283804272798\n",
      "K =  14\n",
      "Accuracy: 0.8914804016844834\n",
      "Precision: 0.8926676699096365\n",
      "Recall: 0.7156151679764519\n",
      "K =  15\n",
      "Accuracy: 0.88789932990494\n",
      "Precision: 0.8901208251755658\n",
      "Recall: 0.7109801798971731\n",
      "K =  16\n",
      "Accuracy: 0.8892675755145683\n",
      "Precision: 0.8869056274822529\n",
      "Recall: 0.7137700511688583\n",
      "K =  17\n",
      "Accuracy: 0.889305134881414\n",
      "Precision: 0.887973779227669\n",
      "Recall: 0.7170283304210294\n",
      "K =  18\n",
      "Accuracy: 0.8900091136933241\n",
      "Precision: 0.886814080370638\n",
      "Recall: 0.714024428360782\n",
      "K =  19\n",
      "Accuracy: 0.8892694063926941\n",
      "Precision: 0.88747955600245\n",
      "Recall: 0.7098663713457091\n",
      "K =  20\n",
      "Accuracy: 0.8900828157349897\n",
      "Precision: 0.888516855306716\n",
      "Recall: 0.7141490560523068\n"
     ]
    }
   ],
   "source": [
    "from sklearn.naive_bayes import GaussianNB\n",
    "gb = GaussianNB()\n",
    "metrics = ['accuracy', 'precision', 'recall']\n",
    "sum = 0\n",
    "for kfoldloop in (2,3,4,5,6,7,8,9,10,11,12,13,14,15,16,17,18,19,20): \n",
    "    cv = KFold(n_splits=kfoldloop, random_state=1, shuffle=True)\n",
    "    scores = cross_validate(gb, x_train, y_train, scoring=metrics, cv=cv, n_jobs=-1)\n",
    "    sorted(scores.keys())\n",
    "    ['fit_time', 'score_time', 'test_accuracy', 'test_precision', 'test_recall']\n",
    "    print(\"K = \", kfoldloop)\n",
    "    print(\"Accuracy:\", np.mean(scores['test_accuracy']))\n",
    "    print(\"Precision:\", np.mean(scores['test_precision']))\n",
    "    print(\"Recall:\", np.mean(scores['test_recall']))"
   ]
  },
  {
   "cell_type": "code",
   "execution_count": 15,
   "id": "d2acedd1",
   "metadata": {},
   "outputs": [
    {
     "data": {
      "text/plain": [
       "array([0, 0, 0, 0, 0, 1, 0, 1, 1, 0, 1, 0, 0, 0, 0, 1, 1, 0, 0, 0, 0, 0,\n",
       "       0, 0, 0, 1, 0, 1, 0, 0], dtype=int64)"
      ]
     },
     "execution_count": 15,
     "metadata": {},
     "output_type": "execute_result"
    }
   ],
   "source": [
    "from sklearn.naive_bayes import GaussianNB \n",
    "classifier = GaussianNB() \n",
    "classifier.fit(x_train, y_train) \n",
    "y_nbpred  =  classifier.predict(x_test) \n",
    "y_nbpred[0:30]"
   ]
  },
  {
   "cell_type": "code",
   "execution_count": 16,
   "id": "c3662e09",
   "metadata": {},
   "outputs": [
    {
     "name": "stdout",
     "output_type": "stream",
     "text": [
      "Accuracy: 0.8757225433526011\n",
      "Precision: 0.8767891263874993\n",
      "Recall: 0.8757225433526011\n"
     ]
    }
   ],
   "source": [
    "import warnings\n",
    "warnings.filterwarnings('ignore')\n",
    "from sklearn import metrics \n",
    "print(\"Accuracy:\",metrics.accuracy_score(y_test, y_nbpred))\n",
    "print(\"Precision:\",metrics.precision_score(y_test, y_nbpred, pos_label='positive', average='weighted'))\n",
    "print(\"Recall:\",metrics.recall_score(y_test, y_nbpred, pos_label='positive', average='weighted'))"
   ]
  },
  {
   "cell_type": "code",
   "execution_count": 17,
   "id": "cf897345",
   "metadata": {},
   "outputs": [
    {
     "data": {
      "text/plain": [
       "array([[224,  10],\n",
       "       [ 33,  79]], dtype=int64)"
      ]
     },
     "execution_count": 17,
     "metadata": {},
     "output_type": "execute_result"
    }
   ],
   "source": [
    "from sklearn.metrics import confusion_matrix,accuracy_score \n",
    "cnf_matrix2 = confusion_matrix(y_test, y_nbpred)\n",
    "cnf_matrix2"
   ]
  },
  {
   "cell_type": "code",
   "execution_count": 18,
   "id": "e6b13059",
   "metadata": {},
   "outputs": [
    {
     "data": {
      "text/plain": [
       "Text(0.5, 257.44, 'Predicted label')"
      ]
     },
     "execution_count": 18,
     "metadata": {},
     "output_type": "execute_result"
    },
    {
     "data": {
      "image/png": "[encoded data removed]",
      "text/plain": [
       "<Figure size 432x288 with 2 Axes>"
      ]
     },
     "metadata": {
      "needs_background": "light"
     },
     "output_type": "display_data"
    }
   ],
   "source": [
    "class_names=[0,1]\n",
    "fig, ax = plt.subplots() \n",
    "tick_marks = np.arange(len(class_names)) \n",
    "plt.xticks(tick_marks, class_names) \n",
    "plt.yticks(tick_marks, class_names) \n",
    "\n",
    "sns.heatmap(pd.DataFrame(cnf_matrix2), annot=True, cmap=\"YlGnBu\" ,fmt='g') \n",
    "ax.xaxis.set_label_position(\"top\") \n",
    "plt.tight_layout() \n",
    "plt.title('Confusion matrix', y=1.1) \n",
    "plt.ylabel('Actual label') \n",
    "plt.xlabel('Predicted label') "
   ]
  },
  {
   "cell_type": "code",
   "execution_count": 19,
   "id": "07f77307",
   "metadata": {},
   "outputs": [],
   "source": [
    "from sklearn.decomposition import PCA\n",
    "pca = PCA(n_components=6)\n",
    "pca.fit(x_train)\n",
    "xpca = pca.transform(x_train)"
   ]
  },
  {
   "cell_type": "code",
   "execution_count": 20,
   "id": "41b95d2d",
   "metadata": {},
   "outputs": [
    {
     "data": {
      "image/png": "[encoded data removed]",
      "text/plain": [
       "<Figure size 432x288 with 1 Axes>"
      ]
     },
     "metadata": {
      "needs_background": "light"
     },
     "output_type": "display_data"
    }
   ],
   "source": [
    "plt.plot(np.cumsum((pca.explained_variance_ratio_)))\n",
    "plt.xlabel('Number of Components')\n",
    "plt.ylabel('Variance')\n",
    "plt.grid()"
   ]
  },
  {
   "cell_type": "code",
   "execution_count": 21,
   "id": "3e45ecd3",
   "metadata": {},
   "outputs": [
    {
     "name": "stdout",
     "output_type": "stream",
     "text": [
      "Accuracy: 0.6994219653179191\n",
      "Precision: 0.6928561342095826\n",
      "Recall: 0.6994219653179191\n"
     ]
    },
    {
     "data": {
      "image/png": "[encoded data removed]",
      "text/plain": [
       "<Figure size 432x288 with 2 Axes>"
      ]
     },
     "metadata": {
      "needs_background": "light"
     },
     "output_type": "display_data"
    }
   ],
   "source": [
    "from sklearn.linear_model import LogisticRegression \n",
    "classifier = LogisticRegression(random_state=0) \n",
    "classifier.fit(xpca, y_train) \n",
    "y_pred_pca = classifier.predict(x_test)\n",
    "y_pred_pca[0:30] \n",
    "class_names=[0,1]\n",
    "fig, ax = plt.subplots() \n",
    "tick_marks = np.arange(len(class_names)) \n",
    "plt.xticks(tick_marks, class_names) \n",
    "plt.yticks(tick_marks, class_names) \n",
    "from sklearn.metrics import confusion_matrix \n",
    "cnf_matrix_pca = confusion_matrix(y_test, y_pred_pca) \n",
    "cnf_matrix_pca \n",
    "sns.heatmap(pd.DataFrame(cnf_matrix_pca), annot=True, cmap=\"YlGnBu\" ,fmt='g') \n",
    "ax.xaxis.set_label_position(\"top\") \n",
    "plt.tight_layout() \n",
    "plt.title('Confusion matrix', y=1.1) \n",
    "plt.ylabel('Actual label') \n",
    "plt.xlabel('Predicted label') \n",
    "from sklearn import metrics\n",
    "print(\"Accuracy:\",metrics.accuracy_score(y_test, y_pred_pca))\n",
    "print(\"Precision:\",metrics.precision_score(y_test, y_pred_pca, pos_label='positive', average='weighted'))\n",
    "print(\"Recall:\",metrics.recall_score(y_test, y_pred_pca, pos_label='positive', average='weighted'))"
   ]
  },
  {
   "cell_type": "code",
   "execution_count": 22,
   "id": "22eaa63b",
   "metadata": {},
   "outputs": [
    {
     "data": {
      "text/plain": [
       "array([0, 0, 1, 0, 0, 1, 0, 1, 1, 0, 1, 0, 0, 0, 0, 1, 1, 0, 0, 1, 0, 0,\n",
       "       0, 0, 0, 1, 0, 1, 0, 1], dtype=int64)"
      ]
     },
     "execution_count": 22,
     "metadata": {},
     "output_type": "execute_result"
    }
   ],
   "source": [
    "from sklearn.discriminant_analysis import LinearDiscriminantAnalysis \n",
    "lda = LinearDiscriminantAnalysis(n_components=1)\n",
    "lda_t = lda.fit_transform(x_train,y_train)\n",
    "y_pred_lda = lda.predict(x_test) \n",
    "y_pred_lda[0:30]"
   ]
  },
  {
   "cell_type": "code",
   "execution_count": 23,
   "id": "cb17fbdf",
   "metadata": {},
   "outputs": [
    {
     "name": "stdout",
     "output_type": "stream",
     "text": [
      "Accuracy: 0.8439306358381503\n",
      "Precision: 0.8414873198402832\n",
      "Recall: 0.8439306358381503\n"
     ]
    }
   ],
   "source": [
    "from sklearn import metrics\n",
    "print(\"Accuracy:\",metrics.accuracy_score(y_test, y_pred_lda))\n",
    "print(\"Precision:\",metrics.precision_score(y_test, y_pred_lda, pos_label='positive', average='weighted'))\n",
    "print(\"Recall:\",metrics.recall_score(y_test, y_pred_lda, pos_label='positive', average='weighted'))"
   ]
  },
  {
   "cell_type": "code",
   "execution_count": 24,
   "id": "65d42dfc",
   "metadata": {},
   "outputs": [
    {
     "data": {
      "text/plain": [
       "Text(0.5, 257.44, 'Predicted label')"
      ]
     },
     "execution_count": 24,
     "metadata": {},
     "output_type": "execute_result"
    },
    {
     "data": {
      "image/png": "[encoded data removed]",
      "text/plain": [
       "<Figure size 432x288 with 2 Axes>"
      ]
     },
     "metadata": {
      "needs_background": "light"
     },
     "output_type": "display_data"
    }
   ],
   "source": [
    "cnf_matrix3 = confusion_matrix(y_test, y_pred_lda)\n",
    "class_names=[0,1] # name of classes\n",
    "fig, ax = plt.subplots()\n",
    "tick_marks = np.arange(len(class_names))\n",
    "plt.xticks(tick_marks, class_names)\n",
    "plt.yticks(tick_marks, class_names)\n",
    "# create heatmap\n",
    "sns.heatmap(pd.DataFrame(cnf_matrix3), annot=True, cmap=\"YlGnBu\" ,fmt='g')\n",
    "ax.xaxis.set_label_position(\"top\")\n",
    "plt.tight_layout()\n",
    "plt.title('Confusion matrix', y=1.1)\n",
    "plt.ylabel('Actual label')\n",
    "plt.xlabel('Predicted label')"
   ]
  },
  {
   "cell_type": "code",
   "execution_count": 25,
   "id": "2378dfb5",
   "metadata": {},
   "outputs": [],
   "source": [
    "x1 = car_data.values[:, 0]\n",
    "x2 = car_data.values[:, 1]  \n",
    "x3 = car_data.values[:, 2]\n",
    "x4 = car_data.values[:, 3]\n",
    "x5 = car_data.values[:, 4] \n",
    "x6 = car_data.values[:, 5] \n",
    "y  = car_data.values[:, 6] "
   ]
  },
  {
   "cell_type": "code",
   "execution_count": 26,
   "id": "c7151418",
   "metadata": {},
   "outputs": [],
   "source": [
    "def mean_squared_error (y, y_bar): \n",
    "    difference = y - y_bar \n",
    "    squared_difference = difference**2 \n",
    "    summation = squared_difference.sum()   \n",
    "    MSE = summation/len(y) \n",
    "    return MSE "
   ]
  },
  {
   "cell_type": "code",
   "execution_count": 27,
   "id": "355659de",
   "metadata": {},
   "outputs": [],
   "source": [
    "def gradient_decsent(x, y, lr, i_iter): \n",
    "    theta0 = 0 \n",
    "    theta1 = 0 \n",
    "    losses = [] \n",
    "    thetas = [] \n",
    "    for i in range (i_iter): \n",
    "        y_bar = theta1*x + theta0 \n",
    "        loss = mean_squared_error(y, y_bar) \n",
    "        theta0 = theta0 - (lr*-2*(y-y_bar).sum()/len(y)) \n",
    "        theta1 = theta1 - (lr*-2*(x.dot(y-y_bar)).sum()/len(y)) \n",
    "        losses.append(loss) \n",
    "        thetas.append((theta0, theta1)) \n",
    "    return thetas, losses "
   ]
  },
  {
   "cell_type": "code",
   "execution_count": 28,
   "id": "17671959",
   "metadata": {},
   "outputs": [],
   "source": [
    "thetas1, losses1 = gradient_decsent(x1, y, 0.1, 100) \n",
    "thetas2, losses2 = gradient_decsent(x2, y, 0.1, 100) \n",
    "thetas3, losses3 = gradient_decsent(x3, y, 0.1, 100) \n",
    "thetas4, losses4 = gradient_decsent(x4, y, 0.1, 100) \n",
    "thetas5, losses5 = gradient_decsent(x5, y, 0.1, 100) \n",
    "thetas6, losses6 = gradient_decsent(x6, y, 0.1, 100) "
   ]
  },
  {
   "cell_type": "code",
   "execution_count": 29,
   "id": "85f562b4",
   "metadata": {},
   "outputs": [
    {
     "name": "stdout",
     "output_type": "stream",
     "text": [
      "y_bar= -0.08340895323185711 x1 + 0.4246359694020135\n",
      "y_bar= -0.07416488533971391 x2 + 0.4107795147140705\n",
      "y_bar= -2.2587848519177108e+26 x3 + -5.89397245690261e+25\n",
      "y_bar= -1.6291205036951662e+45 x4 + -3.516696109088365e+44\n",
      "y_bar= 0.07144905610395608 x5 + 0.22821543835151284\n",
      "y_bar= 0.2593262001798127 x6 + 0.04052848609098093\n"
     ]
    }
   ],
   "source": [
    "print(\"y_bar=\",thetas1[99][1],\"x1 +\",thetas1[99][0]) \n",
    "print(\"y_bar=\",thetas2[99][1],\"x2 +\",thetas2[99][0]) \n",
    "print(\"y_bar=\",thetas3[99][1],\"x3 +\",thetas3[99][0]) \n",
    "print(\"y_bar=\",thetas4[99][1],\"x4 +\",thetas4[99][0]) \n",
    "print(\"y_bar=\",thetas5[99][1],\"x5 +\",thetas5[99][0]) \n",
    "print(\"y_bar=\",thetas6[99][1],\"x6 +\",thetas6[99][0]) "
   ]
  },
  {
   "cell_type": "code",
   "execution_count": 30,
   "id": "70f82127",
   "metadata": {},
   "outputs": [
    {
     "data": {
      "text/plain": [
       "[<matplotlib.lines.Line2D at 0x2463a23e040>]"
      ]
     },
     "execution_count": 30,
     "metadata": {},
     "output_type": "execute_result"
    },
    {
     "data": {
      "image/png": "[encoded data removed]",
      "text/plain": [
       "<Figure size 432x288 with 1 Axes>"
      ]
     },
     "metadata": {
      "needs_background": "light"
     },
     "output_type": "display_data"
    }
   ],
   "source": [
    "x_axis = np.arange(0., 100, 1) \n",
    "plt.grid() \n",
    "plt.xlabel('Iteration') \n",
    "plt.ylabel('Loss') \n",
    "plt.title('Loss Over The Iteration Number For x1') \n",
    "plt.plot(x_axis,losses1,color='red') "
   ]
  },
  {
   "cell_type": "code",
   "execution_count": 31,
   "id": "17b2eeaf",
   "metadata": {},
   "outputs": [
    {
     "data": {
      "text/plain": [
       "[<matplotlib.lines.Line2D at 0x2463a28cd60>]"
      ]
     },
     "execution_count": 31,
     "metadata": {},
     "output_type": "execute_result"
    },
    {
     "data": {
      "image/png": "[encoded data removed]",
      "text/plain": [
       "<Figure size 432x288 with 1 Axes>"
      ]
     },
     "metadata": {
      "needs_background": "light"
     },
     "output_type": "display_data"
    }
   ],
   "source": [
    "x_axis = np.arange(0., 100, 1) \n",
    "plt.grid() \n",
    "plt.xlabel('Iteration') \n",
    "plt.ylabel('Loss') \n",
    "plt.title('Loss Over The Iteration Number for x2') \n",
    "plt.plot(x_axis,losses2,color='red') "
   ]
  },
  {
   "cell_type": "code",
   "execution_count": 32,
   "id": "c5705cbb",
   "metadata": {},
   "outputs": [
    {
     "data": {
      "text/plain": [
       "[<matplotlib.lines.Line2D at 0x2463a2f2430>]"
      ]
     },
     "execution_count": 32,
     "metadata": {},
     "output_type": "execute_result"
    },
    {
     "data": {
      "image/png": "[encoded data removed]",
      "text/plain": [
       "<Figure size 432x288 with 1 Axes>"
      ]
     },
     "metadata": {
      "needs_background": "light"
     },
     "output_type": "display_data"
    }
   ],
   "source": [
    "x_axis = np.arange(0., 100, 1) \n",
    "plt.grid() \n",
    "plt.xlabel('Iteration') \n",
    "plt.ylabel('Loss') \n",
    "plt.title('Loss Over The Iteration Number for x3') \n",
    "plt.plot(x_axis,losses3,color='red') "
   ]
  },
  {
   "cell_type": "code",
   "execution_count": 33,
   "id": "05d384e0",
   "metadata": {},
   "outputs": [
    {
     "data": {
      "text/plain": [
       "[<matplotlib.lines.Line2D at 0x2463a34c7c0>]"
      ]
     },
     "execution_count": 33,
     "metadata": {},
     "output_type": "execute_result"
    },
    {
     "data": {
      "image/png": "[encoded data removed]",
      "text/plain": [
       "<Figure size 432x288 with 1 Axes>"
      ]
     },
     "metadata": {
      "needs_background": "light"
     },
     "output_type": "display_data"
    }
   ],
   "source": [
    "x_axis = np.arange(0., 100, 1) \n",
    "plt.grid() \n",
    "plt.xlabel('Iteration') \n",
    "plt.ylabel('Loss') \n",
    "plt.title('Loss Over The Iteration Number for x4') \n",
    "plt.plot(x_axis,losses4,color='red') "
   ]
  },
  {
   "cell_type": "code",
   "execution_count": 34,
   "id": "6476cdb0",
   "metadata": {},
   "outputs": [
    {
     "data": {
      "text/plain": [
       "[<matplotlib.lines.Line2D at 0x2463a3ac8b0>]"
      ]
     },
     "execution_count": 34,
     "metadata": {},
     "output_type": "execute_result"
    },
    {
     "data": {
      "image/png": "[encoded data removed]",
      "text/plain": [
       "<Figure size 432x288 with 1 Axes>"
      ]
     },
     "metadata": {
      "needs_background": "light"
     },
     "output_type": "display_data"
    }
   ],
   "source": [
    "x_axis = np.arange(0., 100, 1) \n",
    "plt.grid() \n",
    "plt.xlabel('Iteration') \n",
    "plt.ylabel('Loss') \n",
    "plt.title('Loss Over The Iteration Number for x5') \n",
    "plt.plot(x_axis,losses5,color='red') "
   ]
  },
  {
   "cell_type": "code",
   "execution_count": 35,
   "id": "91d05489",
   "metadata": {},
   "outputs": [
    {
     "data": {
      "text/plain": [
       "[<matplotlib.lines.Line2D at 0x2463a405bb0>]"
      ]
     },
     "execution_count": 35,
     "metadata": {},
     "output_type": "execute_result"
    },
    {
     "data": {
      "image/png": "[encoded data removed]",
      "text/plain": [
       "<Figure size 432x288 with 1 Axes>"
      ]
     },
     "metadata": {
      "needs_background": "light"
     },
     "output_type": "display_data"
    }
   ],
   "source": [
    "x_axis = np.arange(0., 100, 1) \n",
    "plt.grid() \n",
    "plt.xlabel('Iteration') \n",
    "plt.ylabel('Loss') \n",
    "plt.title('Loss Over The Iteration Number for x6') \n",
    "plt.plot(x_axis,losses6,color='red') "
   ]
  },
  {
   "cell_type": "code",
   "execution_count": 36,
   "id": "f65b07f8",
   "metadata": {},
   "outputs": [
    {
     "name": "stdout",
     "output_type": "stream",
     "text": [
      "final loss for the first column: 0.20113036015205932\n",
      "final loss for the second column: 0.20296290031600558\n",
      "final loss for the third column: 2.216040706950132e+53\n",
      "final loss for the fourth column: 6.423806551336502e+90\n",
      "final loss for the fifth column: 0.20652963888568068\n",
      "final loss for the sixth column: 0.16499707812768777\n"
     ]
    }
   ],
   "source": [
    "print(\"final loss for the first column:\", losses1[99]) \n",
    "print(\"final loss for the second column:\", losses2[99]) \n",
    "print(\"final loss for the third column:\", losses3[99]) \n",
    "print(\"final loss for the fourth column:\", losses4[99]) \n",
    "print(\"final loss for the fifth column:\", losses5[99]) \n",
    "print(\"final loss for the sixth column:\", losses6[99]) "
   ]
  },
  {
   "cell_type": "code",
   "execution_count": 37,
   "id": "f3e4b4b3",
   "metadata": {},
   "outputs": [
    {
     "data": {
      "text/plain": [
       "[<matplotlib.lines.Line2D at 0x2463a46dd60>]"
      ]
     },
     "execution_count": 37,
     "metadata": {},
     "output_type": "execute_result"
    },
    {
     "data": {
      "image/png": "[encoded data removed]",
      "text/plain": [
       "<Figure size 432x288 with 1 Axes>"
      ]
     },
     "metadata": {
      "needs_background": "light"
     },
     "output_type": "display_data"
    }
   ],
   "source": [
    "thetas2, losses2 = gradient_decsent(x2, y, 0.01, 100) \n",
    "thetas3, losses3 = gradient_decsent(x3, y, 0.01, 100) \n",
    "thetas4, losses4 = gradient_decsent(x4, y, 0.01, 100) \n",
    "thetas5, losses5 = gradient_decsent(x5, y, 0.01, 100) \n",
    "thetas6, losses6 = gradient_decsent(x6, y, 0.01, 100) \n",
    "\n",
    "x_axis = np.arange(0., 100, 1) \n",
    "plt.grid() \n",
    "plt.xlabel('Iteration') \n",
    "plt.ylabel('Loss') \n",
    "plt.title('Loss Over The Iteration Number For x1') \n",
    "plt.plot(x_axis,losses1,color='red') "
   ]
  },
  {
   "cell_type": "code",
   "execution_count": 38,
   "id": "7e315d84",
   "metadata": {},
   "outputs": [
    {
     "data": {
      "text/plain": [
       "[<matplotlib.lines.Line2D at 0x2463a4c8d90>]"
      ]
     },
     "execution_count": 38,
     "metadata": {},
     "output_type": "execute_result"
    },
    {
     "data": {
      "image/png": "[encoded data removed]",
      "text/plain": [
       "<Figure size 432x288 with 1 Axes>"
      ]
     },
     "metadata": {
      "needs_background": "light"
     },
     "output_type": "display_data"
    }
   ],
   "source": [
    "x_axis = np.arange(0., 100, 1) \n",
    "plt.grid() \n",
    "plt.xlabel('Iteration') \n",
    "plt.ylabel('Loss') \n",
    "plt.title('Loss Over The Iteration Number for x2') \n",
    "plt.plot(x_axis,losses2,color='red') "
   ]
  },
  {
   "cell_type": "code",
   "execution_count": 39,
   "id": "1225e0dd",
   "metadata": {},
   "outputs": [
    {
     "data": {
      "text/plain": [
       "[<matplotlib.lines.Line2D at 0x2463a52f280>]"
      ]
     },
     "execution_count": 39,
     "metadata": {},
     "output_type": "execute_result"
    },
    {
     "data": {
      "image/png": "[encoded data removed]",
      "text/plain": [
       "<Figure size 432x288 with 1 Axes>"
      ]
     },
     "metadata": {
      "needs_background": "light"
     },
     "output_type": "display_data"
    }
   ],
   "source": [
    "x_axis = np.arange(0., 100, 1) \n",
    "plt.grid() \n",
    "plt.xlabel('Iteration') \n",
    "plt.ylabel('Loss') \n",
    "plt.title('Loss Over The Iteration Number for x3') \n",
    "plt.plot(x_axis,losses3,color='red')"
   ]
  },
  {
   "cell_type": "code",
   "execution_count": 40,
   "id": "817a9bb7",
   "metadata": {},
   "outputs": [
    {
     "data": {
      "text/plain": [
       "[<matplotlib.lines.Line2D at 0x2463a57dc40>]"
      ]
     },
     "execution_count": 40,
     "metadata": {},
     "output_type": "execute_result"
    },
    {
     "data": {
      "image/png": "[encoded data removed]",
      "text/plain": [
       "<Figure size 432x288 with 1 Axes>"
      ]
     },
     "metadata": {
      "needs_background": "light"
     },
     "output_type": "display_data"
    }
   ],
   "source": [
    "x_axis = np.arange(0., 100, 1) \n",
    "plt.grid() \n",
    "plt.xlabel('Iteration') \n",
    "plt.ylabel('Loss') \n",
    "plt.title('Loss Over The Iteration Number for x4') \n",
    "plt.plot(x_axis,losses4,color='red') "
   ]
  },
  {
   "cell_type": "code",
   "execution_count": 41,
   "id": "f8fbf0c9",
   "metadata": {},
   "outputs": [
    {
     "data": {
      "text/plain": [
       "[<matplotlib.lines.Line2D at 0x2463a5deca0>]"
      ]
     },
     "execution_count": 41,
     "metadata": {},
     "output_type": "execute_result"
    },
    {
     "data": {
      "image/png": "[encoded data removed]",
      "text/plain": [
       "<Figure size 432x288 with 1 Axes>"
      ]
     },
     "metadata": {
      "needs_background": "light"
     },
     "output_type": "display_data"
    }
   ],
   "source": [
    "x_axis = np.arange(0., 100, 1) \n",
    "plt.grid() \n",
    "plt.xlabel('Iteration') \n",
    "plt.ylabel('Loss') \n",
    "plt.title('Loss Over The Iteration Number for x5') \n",
    "plt.plot(x_axis,losses5,color='red') "
   ]
  },
  {
   "cell_type": "code",
   "execution_count": 42,
   "id": "6a7f1af0",
   "metadata": {},
   "outputs": [
    {
     "data": {
      "text/plain": [
       "[<matplotlib.lines.Line2D at 0x2463b607dc0>]"
      ]
     },
     "execution_count": 42,
     "metadata": {},
     "output_type": "execute_result"
    },
    {
     "data": {
      "image/png": "[encoded data removed]",
      "text/plain": [
       "<Figure size 432x288 with 1 Axes>"
      ]
     },
     "metadata": {
      "needs_background": "light"
     },
     "output_type": "display_data"
    }
   ],
   "source": [
    "x_axis = np.arange(0., 100, 1) \n",
    "plt.grid() \n",
    "plt.xlabel('Iteration') \n",
    "plt.ylabel('Loss') \n",
    "plt.title('Loss Over The Iteration Number for x6') \n",
    "plt.plot(x_axis,losses6,color='red') "
   ]
  },
  {
   "cell_type": "code",
   "execution_count": 43,
   "id": "113a796d",
   "metadata": {},
   "outputs": [
    {
     "name": "stdout",
     "output_type": "stream",
     "text": [
      "final loss for the first column: 0.20113036015205932\n",
      "final loss for the second column: 0.2178840718943801\n",
      "final loss for the third column: 0.21149317775625842\n",
      "final loss for the fourth column: 0.17956480646029002\n",
      "final loss for the fifth column: 0.20844060449792876\n",
      "final loss for the sixth column: 0.16631268945694924\n"
     ]
    }
   ],
   "source": [
    "print(\"final loss for the first column:\", losses1[99]) \n",
    "print(\"final loss for the second column:\", losses2[99]) \n",
    "print(\"final loss for the third column:\", losses3[99]) \n",
    "print(\"final loss for the fourth column:\", losses4[99]) \n",
    "print(\"final loss for the fifth column:\", losses5[99]) \n",
    "print(\"final loss for the sixth column:\", losses6[99]) "
   ]
  },
  {
   "cell_type": "code",
   "execution_count": null,
   "id": "ea3fc8db",
   "metadata": {},
   "outputs": [],
   "source": []
  }
 ],
 "metadata": {
  "kernelspec": {
   "display_name": "Python 3",
   "language": "python",
   "name": "python3"
  },
  "language_info": {
   "codemirror_mode": {
    "name": "ipython",
    "version": 3
   },
   "file_extension": ".py",
   "mimetype": "text/x-python",
   "name": "python",
   "nbconvert_exporter": "python",
   "pygments_lexer": "ipython3",
   "version": "3.8.8"
  }
 },
 "nbformat": 4,
 "nbformat_minor": 5
}
